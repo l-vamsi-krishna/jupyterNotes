{
  "metadata": {
    "language_info": {
      "codemirror_mode": {
        "name": "python",
        "version": 3
      },
      "file_extension": ".py",
      "mimetype": "text/x-python",
      "name": "python",
      "nbconvert_exporter": "python",
      "pygments_lexer": "ipython3",
      "version": "3.8"
    },
    "kernelspec": {
      "name": "python",
      "display_name": "Pyolite",
      "language": "python"
    },
    "colab": {
      "name": "loops.ipynb",
      "provenance": []
    }
  },
  "nbformat_minor": 0,
  "nbformat": 4,
  "cells": [
    {
      "cell_type": "markdown",
      "source": [
        "# For Loops"
      ],
      "metadata": {
        "id": "ytyPTGf2YpAe"
      }
    },
    {
      "cell_type": "code",
      "source": [
        "mylist=[1,2,3,4,5]"
      ],
      "metadata": {
        "trusted": true,
        "id": "lXFAmeMVYpAj"
      },
      "execution_count": null,
      "outputs": []
    },
    {
      "cell_type": "code",
      "source": [
        "mylist"
      ],
      "metadata": {
        "trusted": true,
        "id": "I5cl2_iIYpAl",
        "outputId": "3474ada3-a9d0-4fdb-a5e4-82156b1778aa"
      },
      "execution_count": null,
      "outputs": [
        {
          "execution_count": 3,
          "output_type": "execute_result",
          "data": {
            "text/plain": "[1, 2, 3, 4, 5]"
          },
          "metadata": {}
        }
      ]
    },
    {
      "cell_type": "code",
      "source": [
        "for n in mylist:\n",
        "    print(n)"
      ],
      "metadata": {
        "trusted": true,
        "id": "BD2BYFsEYpAm",
        "outputId": "758ae9f6-00bd-4018-dc0c-5fa9f49da0fe"
      },
      "execution_count": null,
      "outputs": [
        {
          "name": "stdout",
          "text": "1\n2\n3\n4\n5\n",
          "output_type": "stream"
        }
      ]
    },
    {
      "cell_type": "code",
      "source": [
        "for n in mylist[0:6:2]: #slicing the list in for loop\n",
        "    print(n)"
      ],
      "metadata": {
        "trusted": true,
        "id": "VxzY4BUBYpAo",
        "outputId": "dca11121-f0a1-41c2-f7d4-adaa39c4c841"
      },
      "execution_count": null,
      "outputs": [
        {
          "name": "stdout",
          "text": "1\n3\n5\n",
          "output_type": "stream"
        }
      ]
    },
    {
      "cell_type": "code",
      "source": [
        "for n in mylist[1:6:2]:\n",
        "    print(n)"
      ],
      "metadata": {
        "trusted": true,
        "id": "-w6zp1dQYpAo",
        "outputId": "9fbfdeaa-2465-46f5-c615-6ea1f5b93946"
      },
      "execution_count": null,
      "outputs": [
        {
          "name": "stdout",
          "text": "2\n4\n",
          "output_type": "stream"
        }
      ]
    },
    {
      "cell_type": "code",
      "source": [
        "# find even numbers in the list\n",
        "for n in mylist:\n",
        "    if n % 2==0:\n",
        "        print(n)"
      ],
      "metadata": {
        "trusted": true,
        "id": "u0mpOEaRYpAp",
        "outputId": "aaeb1186-a1b4-4484-dc09-d121a5336082"
      },
      "execution_count": null,
      "outputs": [
        {
          "name": "stdout",
          "text": "2\n4\n",
          "output_type": "stream"
        }
      ]
    },
    {
      "cell_type": "code",
      "source": [
        "for n in mylist:\n",
        "    if n % 2==0:\n",
        "        print(n)\n",
        "    else:\n",
        "        print(f'{n} not an even')"
      ],
      "metadata": {
        "trusted": true,
        "id": "WApTMUJcYpAr",
        "outputId": "46c6dcd7-d2df-46ae-8658-6a625c90b2df"
      },
      "execution_count": null,
      "outputs": [
        {
          "name": "stdout",
          "text": "1 not an even\n2\n3 not an even\n4\n5 not an even\n",
          "output_type": "stream"
        }
      ]
    },
    {
      "cell_type": "code",
      "source": [
        "# sum of numbers in the list\n",
        "list_sum=0\n",
        "for n in mylist:\n",
        "    list_sum = list_sum+n\n",
        "    print(list_sum)"
      ],
      "metadata": {
        "trusted": true,
        "id": "KZ7wV6w1YpAs",
        "outputId": "e4684767-01f6-4471-e77c-b3c090078a5d"
      },
      "execution_count": null,
      "outputs": [
        {
          "name": "stdout",
          "text": "1\n3\n6\n10\n15\n",
          "output_type": "stream"
        }
      ]
    },
    {
      "cell_type": "code",
      "source": [
        "list_sum # list_sum is printed and updated everytime, hence list_sum shows the value of last iteration, but is printed everytime inside the loop"
      ],
      "metadata": {
        "trusted": true,
        "id": "-byhLdvuYpAu",
        "outputId": "2252a002-423b-40e3-bad8-87c3325ce746"
      },
      "execution_count": null,
      "outputs": [
        {
          "execution_count": 17,
          "output_type": "execute_result",
          "data": {
            "text/plain": "15"
          },
          "metadata": {}
        }
      ]
    },
    {
      "cell_type": "code",
      "source": [
        "sum_list=0\n",
        "for n in mylist:\n",
        "    sum_list=sum_list+n\n",
        "print(sum_list)"
      ],
      "metadata": {
        "trusted": true,
        "id": "FkM69y7TYpAu",
        "outputId": "6e09f298-921b-41a8-89fc-b416ca9b98e5"
      },
      "execution_count": null,
      "outputs": [
        {
          "name": "stdout",
          "text": "15\n",
          "output_type": "stream"
        }
      ]
    },
    {
      "cell_type": "code",
      "source": [
        "sum_list #sum_list is updated everytime, but printed only once after the for loop"
      ],
      "metadata": {
        "trusted": true,
        "id": "XyN07SfiYpAw",
        "outputId": "0dbbfff1-6edd-4f64-8588-688a34243f59"
      },
      "execution_count": null,
      "outputs": [
        {
          "execution_count": 18,
          "output_type": "execute_result",
          "data": {
            "text/plain": "15"
          },
          "metadata": {}
        }
      ]
    },
    {
      "cell_type": "markdown",
      "source": [
        "# Loop through strings"
      ],
      "metadata": {
        "id": "gZZ28WBzYpAw"
      }
    },
    {
      "cell_type": "code",
      "source": [
        "myname='vamsiKrishna'\n",
        "for c in myname:\n",
        "    print(c)\n",
        "# it just prints the chars in strings one by one, it doesn't convert to a list\n",
        "# String is considered as an iterable object"
      ],
      "metadata": {
        "trusted": true,
        "id": "YZltCNErYpAx",
        "outputId": "15260a34-0f04-4eba-a16c-a61d416d778d"
      },
      "execution_count": null,
      "outputs": [
        {
          "name": "stdout",
          "text": "v\na\nm\ns\ni\nK\nr\ni\ns\nh\nn\na\n",
          "output_type": "stream"
        }
      ]
    },
    {
      "cell_type": "code",
      "source": [
        "list(myname) # converts string to a list"
      ],
      "metadata": {
        "trusted": true,
        "id": "aJUGCpM9YpAy",
        "outputId": "eef173cb-5b0f-48c6-b2ee-b3a426c2ccc2"
      },
      "execution_count": null,
      "outputs": [
        {
          "execution_count": 22,
          "output_type": "execute_result",
          "data": {
            "text/plain": "['v', 'a', 'm', 's', 'i', 'K', 'r', 'i', 's', 'h', 'n', 'a']"
          },
          "metadata": {}
        }
      ]
    },
    {
      "cell_type": "code",
      "source": [
        "my_string_list=[]\n",
        "for c in myname:\n",
        "    my_string_list.append(c)\n",
        "print(my_string_list)"
      ],
      "metadata": {
        "trusted": true,
        "id": "rkkIxeZrYpAy",
        "outputId": "547e16df-4b82-4b2b-a62a-bf6539b3e936"
      },
      "execution_count": null,
      "outputs": [
        {
          "name": "stdout",
          "text": "['v', 'a', 'm', 's', 'i', 'K', 'r', 'i', 's', 'h', 'n', 'a']\n",
          "output_type": "stream"
        }
      ]
    },
    {
      "cell_type": "markdown",
      "source": [
        "## when you don't need the for loop var inside the loop, you can use underscore as a placehoder"
      ],
      "metadata": {
        "id": "28dCbn1NYpAz"
      }
    },
    {
      "cell_type": "code",
      "source": [
        "mylist=[1,2,3,4,5]\n",
        "for c in mylist:\n",
        "    print('Hello') # we are not using the variable 'c' inside the loop"
      ],
      "metadata": {
        "trusted": true,
        "id": "de6X3gsWYpAz",
        "outputId": "f097186f-4f8a-4444-a06e-cc9689b80db6"
      },
      "execution_count": null,
      "outputs": [
        {
          "name": "stdout",
          "text": "Hello\nHello\nHello\nHello\nHello\n",
          "output_type": "stream"
        }
      ]
    },
    {
      "cell_type": "code",
      "source": [
        "for _ in mylist:\n",
        "    print('Hello') # just to improve readability"
      ],
      "metadata": {
        "trusted": true,
        "id": "joOPY1GXYpAz",
        "outputId": "13ebd425-d9e2-403e-9606-ea6705e0ac1d"
      },
      "execution_count": null,
      "outputs": [
        {
          "name": "stdout",
          "text": "Hello\nHello\nHello\nHello\nHello\n",
          "output_type": "stream"
        }
      ]
    },
    {
      "cell_type": "code",
      "source": [
        "mytup=(1,2,3,4)\n",
        "for n in mytup:\n",
        "    print(n)"
      ],
      "metadata": {
        "trusted": true,
        "id": "j7E0iQovYpA0",
        "outputId": "82064b04-b585-46ee-c41d-3c9f783b322e"
      },
      "execution_count": null,
      "outputs": [
        {
          "name": "stdout",
          "text": "1\n2\n3\n4\n",
          "output_type": "stream"
        }
      ]
    },
    {
      "cell_type": "markdown",
      "source": [
        "# Tuple Unpacking\n",
        "Most of the common methods returns a list of tuples, because we can unpack the tuples"
      ],
      "metadata": {
        "id": "dwcT69EiYpA1"
      }
    },
    {
      "cell_type": "code",
      "source": [
        "mylist=[(1,2),(3,4),(5,6)]"
      ],
      "metadata": {
        "trusted": true,
        "id": "ataZWY36YpA1"
      },
      "execution_count": null,
      "outputs": []
    },
    {
      "cell_type": "code",
      "source": [
        "mylist # each item in list is a tuple"
      ],
      "metadata": {
        "trusted": true,
        "id": "nfkGj6SBYpA1",
        "outputId": "4660946e-14a4-4ff2-c2ae-17839af8525c"
      },
      "execution_count": null,
      "outputs": [
        {
          "execution_count": 35,
          "output_type": "execute_result",
          "data": {
            "text/plain": "[(1, 2), (3, 4), (5, 6)]"
          },
          "metadata": {}
        }
      ]
    },
    {
      "cell_type": "code",
      "source": [
        "for item in mylist:\n",
        "    print(item) # will print each tuple"
      ],
      "metadata": {
        "trusted": true,
        "id": "0ouc0eg4YpA2",
        "outputId": "1468e2de-dc4d-433d-eeb3-42b19d7d90aa"
      },
      "execution_count": null,
      "outputs": [
        {
          "name": "stdout",
          "text": "(1, 2)\n(3, 4)\n(5, 6)\n",
          "output_type": "stream"
        }
      ]
    },
    {
      "cell_type": "markdown",
      "source": [
        "## to access inidividual elements inside the tuple"
      ],
      "metadata": {
        "id": "0Sw13Eq2YpA2"
      }
    },
    {
      "cell_type": "code",
      "source": [
        "for (a,b) in mylist: # declare loop variables similar to the tuple, and extract them individually\n",
        "    print(a)\n",
        "    print(b)"
      ],
      "metadata": {
        "trusted": true,
        "id": "edG1ZMqbYpA3",
        "outputId": "cd90ba43-e25b-49a7-d6bd-caf638b7a0bc"
      },
      "execution_count": null,
      "outputs": [
        {
          "name": "stdout",
          "text": "1\n2\n3\n4\n5\n6\n",
          "output_type": "stream"
        }
      ]
    },
    {
      "cell_type": "code",
      "source": [
        "for (a,b) in mylist:\n",
        "    print(a)"
      ],
      "metadata": {
        "trusted": true,
        "id": "ISvP0FweYpA3",
        "outputId": "3a9df0bf-4310-4b9e-d43e-5cb9ca3ee2c9"
      },
      "execution_count": null,
      "outputs": [
        {
          "name": "stdout",
          "text": "1\n3\n5\n",
          "output_type": "stream"
        }
      ]
    },
    {
      "cell_type": "code",
      "source": [
        "for a,b in mylist: # () are optional\n",
        "    print(a+b)"
      ],
      "metadata": {
        "trusted": true,
        "id": "R6AIbjzOYpA3",
        "outputId": "7e9a03c8-217c-4f0c-e878-2a417d24b819"
      },
      "execution_count": null,
      "outputs": [
        {
          "name": "stdout",
          "text": "3\n7\n11\n",
          "output_type": "stream"
        }
      ]
    },
    {
      "cell_type": "code",
      "source": [
        "mylist=[(1,2,3),(4,5,6),(7,8,9)]"
      ],
      "metadata": {
        "trusted": true,
        "id": "bL-lKX88YpA4"
      },
      "execution_count": null,
      "outputs": []
    },
    {
      "cell_type": "code",
      "source": [
        "for a,b,c in mylist:\n",
        "    print(b)"
      ],
      "metadata": {
        "trusted": true,
        "id": "nUcFPKY2YpA4",
        "outputId": "7b7955f4-1dff-4c97-df46-b272dd4ea9cc"
      },
      "execution_count": null,
      "outputs": [
        {
          "name": "stdout",
          "text": "2\n5\n8\n",
          "output_type": "stream"
        }
      ]
    },
    {
      "cell_type": "code",
      "source": [
        "for a,b,c in mylist:\n",
        "    print(b+c)"
      ],
      "metadata": {
        "trusted": true,
        "id": "ClG_RwwGYpA5",
        "outputId": "2ce78fdf-7d4e-4617-a8a8-35956aff8338"
      },
      "execution_count": null,
      "outputs": [
        {
          "name": "stdout",
          "text": "5\n11\n17\n",
          "output_type": "stream"
        }
      ]
    },
    {
      "cell_type": "markdown",
      "source": [
        "# Loop through dictionaries"
      ],
      "metadata": {
        "id": "AMrqszdlYpA5"
      }
    },
    {
      "cell_type": "code",
      "source": [
        "mydict={'name':'vamsi','place':'Hyd'}"
      ],
      "metadata": {
        "trusted": true,
        "id": "rVdHIplaYpA5"
      },
      "execution_count": 1,
      "outputs": []
    },
    {
      "cell_type": "code",
      "source": [
        "for item in mydict: #By default mydict will iterate only keys\n",
        "    print(item)"
      ],
      "metadata": {
        "trusted": true,
        "id": "RKmEowRhYpA5",
        "outputId": "e345e9d8-8e34-4e47-80ed-3fdf0121a1d7"
      },
      "execution_count": null,
      "outputs": [
        {
          "name": "stdout",
          "text": "name\nplace\n",
          "output_type": "stream"
        }
      ]
    },
    {
      "cell_type": "code",
      "source": [
        "for item in mydict.items():\n",
        "    print(item) "
      ],
      "metadata": {
        "trusted": true,
        "id": "ySotfOHRYpA6",
        "outputId": "2cd208b2-dd46-477d-f24c-44dde453d1d0"
      },
      "execution_count": null,
      "outputs": [
        {
          "name": "stdout",
          "text": "('name', 'vamsi')\n('place', 'Hyd')\n",
          "output_type": "stream"
        }
      ]
    },
    {
      "cell_type": "markdown",
      "source": [
        "## each item is printed as a tuple, we can use tuple unpacking"
      ],
      "metadata": {
        "id": "YFV65HWqYpA6"
      }
    },
    {
      "cell_type": "code",
      "source": [
        "for key,value in mydict.items():\n",
        "    print(key)"
      ],
      "metadata": {
        "trusted": true,
        "id": "qiA0RWVuYpA6",
        "outputId": "2e469d63-f249-44d8-83d9-86403a9af9d4"
      },
      "execution_count": null,
      "outputs": [
        {
          "name": "stdout",
          "text": "name\nplace\n",
          "output_type": "stream"
        }
      ]
    },
    {
      "cell_type": "code",
      "source": [
        "for key,value in mydict.items():\n",
        "    print(f'{key} : {value}')"
      ],
      "metadata": {
        "trusted": true,
        "id": "_0ABSKvQYpA7",
        "outputId": "8194c052-bb54-42fe-e32b-6876d281ce2d"
      },
      "execution_count": null,
      "outputs": [
        {
          "name": "stdout",
          "text": "name : vamsi\nplace : Hyd\n",
          "output_type": "stream"
        }
      ]
    },
    {
      "cell_type": "code",
      "source": [
        "for value in mydict.values():\n",
        "  print(value)"
      ],
      "metadata": {
        "id": "-YSgpI1dYpA7",
        "outputId": "07dd9cf9-9486-44f0-8900-ed7ca9425c89",
        "colab": {
          "base_uri": "https://localhost:8080/"
        }
      },
      "execution_count": 2,
      "outputs": [
        {
          "output_type": "stream",
          "name": "stdout",
          "text": [
            "vamsi\n",
            "Hyd\n"
          ]
        }
      ]
    },
    {
      "cell_type": "code",
      "source": [
        "for key in mydict.keys():\n",
        "  print(key)"
      ],
      "metadata": {
        "id": "SDqp7RmgZDsA",
        "outputId": "e6e226fa-c2d2-4f89-f73b-b7ff1989a1b0",
        "colab": {
          "base_uri": "https://localhost:8080/"
        }
      },
      "execution_count": 3,
      "outputs": [
        {
          "output_type": "stream",
          "name": "stdout",
          "text": [
            "name\n",
            "place\n"
          ]
        }
      ]
    },
    {
      "cell_type": "code",
      "source": [
        ""
      ],
      "metadata": {
        "id": "Nlg65ShWZMLz"
      },
      "execution_count": null,
      "outputs": []
    }
  ]
}