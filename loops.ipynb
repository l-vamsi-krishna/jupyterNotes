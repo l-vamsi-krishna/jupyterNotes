{
  "metadata": {
    "language_info": {
      "codemirror_mode": {
        "name": "python",
        "version": 3
      },
      "file_extension": ".py",
      "mimetype": "text/x-python",
      "name": "python",
      "nbconvert_exporter": "python",
      "pygments_lexer": "ipython3",
      "version": "3.8"
    },
    "kernelspec": {
      "name": "python",
      "display_name": "Pyolite",
      "language": "python"
    }
  },
  "nbformat_minor": 4,
  "nbformat": 4,
  "cells": [
    {
      "cell_type": "markdown",
      "source": "# For Loops",
      "metadata": {}
    },
    {
      "cell_type": "code",
      "source": "mylist=[1,2,3,4,5]",
      "metadata": {
        "trusted": true
      },
      "execution_count": 2,
      "outputs": []
    },
    {
      "cell_type": "code",
      "source": "mylist",
      "metadata": {
        "trusted": true
      },
      "execution_count": 3,
      "outputs": [
        {
          "execution_count": 3,
          "output_type": "execute_result",
          "data": {
            "text/plain": "[1, 2, 3, 4, 5]"
          },
          "metadata": {}
        }
      ]
    },
    {
      "cell_type": "code",
      "source": "for n in mylist:\n    print(n)",
      "metadata": {
        "trusted": true
      },
      "execution_count": 4,
      "outputs": [
        {
          "name": "stdout",
          "text": "1\n2\n3\n4\n5\n",
          "output_type": "stream"
        }
      ]
    },
    {
      "cell_type": "code",
      "source": "for n in mylist[0:6:2]: #slicing the list in for loop\n    print(n)",
      "metadata": {
        "trusted": true
      },
      "execution_count": 31,
      "outputs": [
        {
          "name": "stdout",
          "text": "1\n3\n5\n",
          "output_type": "stream"
        }
      ]
    },
    {
      "cell_type": "code",
      "source": "for n in mylist[1:6:2]:\n    print(n)",
      "metadata": {
        "trusted": true
      },
      "execution_count": 9,
      "outputs": [
        {
          "name": "stdout",
          "text": "2\n4\n",
          "output_type": "stream"
        }
      ]
    },
    {
      "cell_type": "code",
      "source": "# find even numbers in the list\nfor n in mylist:\n    if n % 2==0:\n        print(n)",
      "metadata": {
        "trusted": true
      },
      "execution_count": 11,
      "outputs": [
        {
          "name": "stdout",
          "text": "2\n4\n",
          "output_type": "stream"
        }
      ]
    },
    {
      "cell_type": "code",
      "source": "for n in mylist:\n    if n % 2==0:\n        print(n)\n    else:\n        print(f'{n} not an even')",
      "metadata": {
        "trusted": true
      },
      "execution_count": 12,
      "outputs": [
        {
          "name": "stdout",
          "text": "1 not an even\n2\n3 not an even\n4\n5 not an even\n",
          "output_type": "stream"
        }
      ]
    },
    {
      "cell_type": "code",
      "source": "# sum of numbers in the list\nlist_sum=0\nfor n in mylist:\n    list_sum = list_sum+n\n    print(list_sum)",
      "metadata": {
        "trusted": true
      },
      "execution_count": 13,
      "outputs": [
        {
          "name": "stdout",
          "text": "1\n3\n6\n10\n15\n",
          "output_type": "stream"
        }
      ]
    },
    {
      "cell_type": "code",
      "source": "list_sum # list_sum is printed and updated everytime, hence list_sum shows the value of last iteration, but is printed everytime inside the loop",
      "metadata": {
        "trusted": true
      },
      "execution_count": 17,
      "outputs": [
        {
          "execution_count": 17,
          "output_type": "execute_result",
          "data": {
            "text/plain": "15"
          },
          "metadata": {}
        }
      ]
    },
    {
      "cell_type": "code",
      "source": "sum_list=0\nfor n in mylist:\n    sum_list=sum_list+n\nprint(sum_list)",
      "metadata": {
        "trusted": true
      },
      "execution_count": 14,
      "outputs": [
        {
          "name": "stdout",
          "text": "15\n",
          "output_type": "stream"
        }
      ]
    },
    {
      "cell_type": "code",
      "source": "sum_list #sum_list is updated everytime, but printed only once after the for loop",
      "metadata": {
        "trusted": true
      },
      "execution_count": 18,
      "outputs": [
        {
          "execution_count": 18,
          "output_type": "execute_result",
          "data": {
            "text/plain": "15"
          },
          "metadata": {}
        }
      ]
    },
    {
      "cell_type": "markdown",
      "source": "# Loop through strings",
      "metadata": {}
    },
    {
      "cell_type": "code",
      "source": "myname='vamsiKrishna'\nfor c in myname:\n    print(c)\n# it just prints the chars in strings one by one, it doesn't convert to a list\n# String is considered as an iterable object",
      "metadata": {
        "trusted": true
      },
      "execution_count": 24,
      "outputs": [
        {
          "name": "stdout",
          "text": "v\na\nm\ns\ni\nK\nr\ni\ns\nh\nn\na\n",
          "output_type": "stream"
        }
      ]
    },
    {
      "cell_type": "code",
      "source": "list(myname) # converts string to a list",
      "metadata": {
        "trusted": true
      },
      "execution_count": 22,
      "outputs": [
        {
          "execution_count": 22,
          "output_type": "execute_result",
          "data": {
            "text/plain": "['v', 'a', 'm', 's', 'i', 'K', 'r', 'i', 's', 'h', 'n', 'a']"
          },
          "metadata": {}
        }
      ]
    },
    {
      "cell_type": "code",
      "source": "my_string_list=[]\nfor c in myname:\n    my_string_list.append(c)\nprint(my_string_list)",
      "metadata": {
        "trusted": true
      },
      "execution_count": 25,
      "outputs": [
        {
          "name": "stdout",
          "text": "['v', 'a', 'm', 's', 'i', 'K', 'r', 'i', 's', 'h', 'n', 'a']\n",
          "output_type": "stream"
        }
      ]
    },
    {
      "cell_type": "markdown",
      "source": "## when you don't need the for loop var inside the loop, you can use underscore as a placehoder",
      "metadata": {}
    },
    {
      "cell_type": "code",
      "source": "mylist=[1,2,3,4,5]\nfor c in mylist:\n    print('Hello') # we are not using the variable 'c' inside the loop",
      "metadata": {
        "trusted": true
      },
      "execution_count": 27,
      "outputs": [
        {
          "name": "stdout",
          "text": "Hello\nHello\nHello\nHello\nHello\n",
          "output_type": "stream"
        }
      ]
    },
    {
      "cell_type": "code",
      "source": "for _ in mylist:\n    print('Hello') # just to improve readability",
      "metadata": {
        "trusted": true
      },
      "execution_count": 29,
      "outputs": [
        {
          "name": "stdout",
          "text": "Hello\nHello\nHello\nHello\nHello\n",
          "output_type": "stream"
        }
      ]
    },
    {
      "cell_type": "code",
      "source": "mytup=(1,2,3,4)\nfor n in mytup:\n    print(n)",
      "metadata": {
        "trusted": true
      },
      "execution_count": 32,
      "outputs": [
        {
          "name": "stdout",
          "text": "1\n2\n3\n4\n",
          "output_type": "stream"
        }
      ]
    },
    {
      "cell_type": "markdown",
      "source": "# Tuple Unpacking\nMost of the common methods returns a list of tuples, because we can unpack the tuples",
      "metadata": {}
    },
    {
      "cell_type": "code",
      "source": "mylist=[(1,2),(3,4),(5,6)]",
      "metadata": {
        "trusted": true
      },
      "execution_count": 33,
      "outputs": []
    },
    {
      "cell_type": "code",
      "source": "mylist # each item in list is a tuple",
      "metadata": {
        "trusted": true
      },
      "execution_count": 35,
      "outputs": [
        {
          "execution_count": 35,
          "output_type": "execute_result",
          "data": {
            "text/plain": "[(1, 2), (3, 4), (5, 6)]"
          },
          "metadata": {}
        }
      ]
    },
    {
      "cell_type": "code",
      "source": "for item in mylist:\n    print(item) # will print each tuple",
      "metadata": {
        "trusted": true
      },
      "execution_count": 37,
      "outputs": [
        {
          "name": "stdout",
          "text": "(1, 2)\n(3, 4)\n(5, 6)\n",
          "output_type": "stream"
        }
      ]
    },
    {
      "cell_type": "markdown",
      "source": "## to access inidividual elements inside the tuple",
      "metadata": {}
    },
    {
      "cell_type": "code",
      "source": "for (a,b) in mylist: # declare loop variables similar to the tuple, and extract them individually\n    print(a)\n    print(b)",
      "metadata": {
        "trusted": true
      },
      "execution_count": 41,
      "outputs": [
        {
          "name": "stdout",
          "text": "1\n2\n3\n4\n5\n6\n",
          "output_type": "stream"
        }
      ]
    },
    {
      "cell_type": "code",
      "source": "for (a,b) in mylist:\n    print(a)",
      "metadata": {
        "trusted": true
      },
      "execution_count": 42,
      "outputs": [
        {
          "name": "stdout",
          "text": "1\n3\n5\n",
          "output_type": "stream"
        }
      ]
    },
    {
      "cell_type": "code",
      "source": "for a,b in mylist: # () are optional\n    print(a+b)",
      "metadata": {
        "trusted": true
      },
      "execution_count": 44,
      "outputs": [
        {
          "name": "stdout",
          "text": "3\n7\n11\n",
          "output_type": "stream"
        }
      ]
    },
    {
      "cell_type": "code",
      "source": "mylist=[(1,2,3),(4,5,6),(7,8,9)]",
      "metadata": {
        "trusted": true
      },
      "execution_count": 45,
      "outputs": []
    },
    {
      "cell_type": "code",
      "source": "for a,b,c in mylist:\n    print(b)",
      "metadata": {
        "trusted": true
      },
      "execution_count": 46,
      "outputs": [
        {
          "name": "stdout",
          "text": "2\n5\n8\n",
          "output_type": "stream"
        }
      ]
    },
    {
      "cell_type": "code",
      "source": "for a,b,c in mylist:\n    print(b+c)",
      "metadata": {
        "trusted": true
      },
      "execution_count": 47,
      "outputs": [
        {
          "name": "stdout",
          "text": "5\n11\n17\n",
          "output_type": "stream"
        }
      ]
    },
    {
      "cell_type": "markdown",
      "source": "# Loop through dictionaries",
      "metadata": {}
    },
    {
      "cell_type": "code",
      "source": "mydict={'name':'vamsi','place':'Hyd'}",
      "metadata": {
        "trusted": true
      },
      "execution_count": 48,
      "outputs": []
    },
    {
      "cell_type": "code",
      "source": "for item in mydict: #By default mydict will iterate only keys\n    print(item)",
      "metadata": {
        "trusted": true
      },
      "execution_count": 51,
      "outputs": [
        {
          "name": "stdout",
          "text": "name\nplace\n",
          "output_type": "stream"
        }
      ]
    },
    {
      "cell_type": "code",
      "source": "for item in mydict.items():\n    print(item) ",
      "metadata": {
        "trusted": true
      },
      "execution_count": 54,
      "outputs": [
        {
          "name": "stdout",
          "text": "('name', 'vamsi')\n('place', 'Hyd')\n",
          "output_type": "stream"
        }
      ]
    },
    {
      "cell_type": "markdown",
      "source": "## each item is printed as a tuple, we can use tuple unpacking",
      "metadata": {}
    },
    {
      "cell_type": "code",
      "source": "for key,value in mydict.items():\n    print(key)",
      "metadata": {
        "trusted": true
      },
      "execution_count": 55,
      "outputs": [
        {
          "name": "stdout",
          "text": "name\nplace\n",
          "output_type": "stream"
        }
      ]
    },
    {
      "cell_type": "code",
      "source": "for key,value in mydict.items():\n    print(f'{key} : {value}')",
      "metadata": {
        "trusted": true
      },
      "execution_count": 56,
      "outputs": [
        {
          "name": "stdout",
          "text": "name : vamsi\nplace : Hyd\n",
          "output_type": "stream"
        }
      ]
    },
    {
      "cell_type": "code",
      "source": "",
      "metadata": {},
      "execution_count": null,
      "outputs": []
    }
  ]
}